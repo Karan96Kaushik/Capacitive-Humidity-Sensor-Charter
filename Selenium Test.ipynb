{
 "cells": [
  {
   "cell_type": "code",
   "execution_count": 1,
   "metadata": {},
   "outputs": [],
   "source": [
    "from selenium import webdriver\n",
    "from selenium.webdriver.firefox.options import Options\n",
    "from selenium.webdriver.common.keys import Keys\n",
    "from IPython.core.display import display, HTML"
   ]
  },
  {
   "cell_type": "code",
   "execution_count": 2,
   "metadata": {},
   "outputs": [
    {
     "ename": "WebDriverException",
     "evalue": "Message: invalid argument: can't kill an exited process\n",
     "output_type": "error",
     "traceback": [
      "\u001b[0;31m---------------------------------------------------------------------------\u001b[0m",
      "\u001b[0;31mWebDriverException\u001b[0m                        Traceback (most recent call last)",
      "\u001b[0;32m<ipython-input-2-a699509099af>\u001b[0m in \u001b[0;36m<module>\u001b[0;34m()\u001b[0m\n\u001b[1;32m      3\u001b[0m \u001b[0;34m\u001b[0m\u001b[0m\n\u001b[1;32m      4\u001b[0m \u001b[0;34m\u001b[0m\u001b[0m\n\u001b[0;32m----> 5\u001b[0;31m \u001b[0mdriver\u001b[0m \u001b[0;34m=\u001b[0m \u001b[0mwebdriver\u001b[0m\u001b[0;34m.\u001b[0m\u001b[0mFirefox\u001b[0m\u001b[0;34m(\u001b[0m\u001b[0moptions\u001b[0m\u001b[0;34m=\u001b[0m\u001b[0moptions\u001b[0m\u001b[0;34m)\u001b[0m \u001b[0;31m#\u001b[0m\u001b[0;34m\u001b[0m\u001b[0;34m\u001b[0m\u001b[0m\n\u001b[0m",
      "\u001b[0;32m/home/anirudh/.local/lib/python3.6/site-packages/selenium/webdriver/firefox/webdriver.py\u001b[0m in \u001b[0;36m__init__\u001b[0;34m(self, firefox_profile, firefox_binary, timeout, capabilities, proxy, executable_path, options, service_log_path, firefox_options, service_args, desired_capabilities, log_path, keep_alive)\u001b[0m\n\u001b[1;32m    172\u001b[0m                 \u001b[0mcommand_executor\u001b[0m\u001b[0;34m=\u001b[0m\u001b[0mexecutor\u001b[0m\u001b[0;34m,\u001b[0m\u001b[0;34m\u001b[0m\u001b[0;34m\u001b[0m\u001b[0m\n\u001b[1;32m    173\u001b[0m                 \u001b[0mdesired_capabilities\u001b[0m\u001b[0;34m=\u001b[0m\u001b[0mcapabilities\u001b[0m\u001b[0;34m,\u001b[0m\u001b[0;34m\u001b[0m\u001b[0;34m\u001b[0m\u001b[0m\n\u001b[0;32m--> 174\u001b[0;31m                 keep_alive=True)\n\u001b[0m\u001b[1;32m    175\u001b[0m \u001b[0;34m\u001b[0m\u001b[0m\n\u001b[1;32m    176\u001b[0m         \u001b[0;31m# Selenium remote\u001b[0m\u001b[0;34m\u001b[0m\u001b[0;34m\u001b[0m\u001b[0;34m\u001b[0m\u001b[0m\n",
      "\u001b[0;32m/home/anirudh/.local/lib/python3.6/site-packages/selenium/webdriver/remote/webdriver.py\u001b[0m in \u001b[0;36m__init__\u001b[0;34m(self, command_executor, desired_capabilities, browser_profile, proxy, keep_alive, file_detector, options)\u001b[0m\n\u001b[1;32m    155\u001b[0m             warnings.warn(\"Please use FirefoxOptions to set browser profile\",\n\u001b[1;32m    156\u001b[0m                           DeprecationWarning, stacklevel=2)\n\u001b[0;32m--> 157\u001b[0;31m         \u001b[0mself\u001b[0m\u001b[0;34m.\u001b[0m\u001b[0mstart_session\u001b[0m\u001b[0;34m(\u001b[0m\u001b[0mcapabilities\u001b[0m\u001b[0;34m,\u001b[0m \u001b[0mbrowser_profile\u001b[0m\u001b[0;34m)\u001b[0m\u001b[0;34m\u001b[0m\u001b[0;34m\u001b[0m\u001b[0m\n\u001b[0m\u001b[1;32m    158\u001b[0m         \u001b[0mself\u001b[0m\u001b[0;34m.\u001b[0m\u001b[0m_switch_to\u001b[0m \u001b[0;34m=\u001b[0m \u001b[0mSwitchTo\u001b[0m\u001b[0;34m(\u001b[0m\u001b[0mself\u001b[0m\u001b[0;34m)\u001b[0m\u001b[0;34m\u001b[0m\u001b[0;34m\u001b[0m\u001b[0m\n\u001b[1;32m    159\u001b[0m         \u001b[0mself\u001b[0m\u001b[0;34m.\u001b[0m\u001b[0m_mobile\u001b[0m \u001b[0;34m=\u001b[0m \u001b[0mMobile\u001b[0m\u001b[0;34m(\u001b[0m\u001b[0mself\u001b[0m\u001b[0;34m)\u001b[0m\u001b[0;34m\u001b[0m\u001b[0;34m\u001b[0m\u001b[0m\n",
      "\u001b[0;32m/home/anirudh/.local/lib/python3.6/site-packages/selenium/webdriver/remote/webdriver.py\u001b[0m in \u001b[0;36mstart_session\u001b[0;34m(self, capabilities, browser_profile)\u001b[0m\n\u001b[1;32m    250\u001b[0m         parameters = {\"capabilities\": w3c_caps,\n\u001b[1;32m    251\u001b[0m                       \"desiredCapabilities\": capabilities}\n\u001b[0;32m--> 252\u001b[0;31m         \u001b[0mresponse\u001b[0m \u001b[0;34m=\u001b[0m \u001b[0mself\u001b[0m\u001b[0;34m.\u001b[0m\u001b[0mexecute\u001b[0m\u001b[0;34m(\u001b[0m\u001b[0mCommand\u001b[0m\u001b[0;34m.\u001b[0m\u001b[0mNEW_SESSION\u001b[0m\u001b[0;34m,\u001b[0m \u001b[0mparameters\u001b[0m\u001b[0;34m)\u001b[0m\u001b[0;34m\u001b[0m\u001b[0;34m\u001b[0m\u001b[0m\n\u001b[0m\u001b[1;32m    253\u001b[0m         \u001b[0;32mif\u001b[0m \u001b[0;34m'sessionId'\u001b[0m \u001b[0;32mnot\u001b[0m \u001b[0;32min\u001b[0m \u001b[0mresponse\u001b[0m\u001b[0;34m:\u001b[0m\u001b[0;34m\u001b[0m\u001b[0;34m\u001b[0m\u001b[0m\n\u001b[1;32m    254\u001b[0m             \u001b[0mresponse\u001b[0m \u001b[0;34m=\u001b[0m \u001b[0mresponse\u001b[0m\u001b[0;34m[\u001b[0m\u001b[0;34m'value'\u001b[0m\u001b[0;34m]\u001b[0m\u001b[0;34m\u001b[0m\u001b[0;34m\u001b[0m\u001b[0m\n",
      "\u001b[0;32m/home/anirudh/.local/lib/python3.6/site-packages/selenium/webdriver/remote/webdriver.py\u001b[0m in \u001b[0;36mexecute\u001b[0;34m(self, driver_command, params)\u001b[0m\n\u001b[1;32m    319\u001b[0m         \u001b[0mresponse\u001b[0m \u001b[0;34m=\u001b[0m \u001b[0mself\u001b[0m\u001b[0;34m.\u001b[0m\u001b[0mcommand_executor\u001b[0m\u001b[0;34m.\u001b[0m\u001b[0mexecute\u001b[0m\u001b[0;34m(\u001b[0m\u001b[0mdriver_command\u001b[0m\u001b[0;34m,\u001b[0m \u001b[0mparams\u001b[0m\u001b[0;34m)\u001b[0m\u001b[0;34m\u001b[0m\u001b[0;34m\u001b[0m\u001b[0m\n\u001b[1;32m    320\u001b[0m         \u001b[0;32mif\u001b[0m \u001b[0mresponse\u001b[0m\u001b[0;34m:\u001b[0m\u001b[0;34m\u001b[0m\u001b[0;34m\u001b[0m\u001b[0m\n\u001b[0;32m--> 321\u001b[0;31m             \u001b[0mself\u001b[0m\u001b[0;34m.\u001b[0m\u001b[0merror_handler\u001b[0m\u001b[0;34m.\u001b[0m\u001b[0mcheck_response\u001b[0m\u001b[0;34m(\u001b[0m\u001b[0mresponse\u001b[0m\u001b[0;34m)\u001b[0m\u001b[0;34m\u001b[0m\u001b[0;34m\u001b[0m\u001b[0m\n\u001b[0m\u001b[1;32m    322\u001b[0m             response['value'] = self._unwrap_value(\n\u001b[1;32m    323\u001b[0m                 response.get('value', None))\n",
      "\u001b[0;32m/home/anirudh/.local/lib/python3.6/site-packages/selenium/webdriver/remote/errorhandler.py\u001b[0m in \u001b[0;36mcheck_response\u001b[0;34m(self, response)\u001b[0m\n\u001b[1;32m    240\u001b[0m                 \u001b[0malert_text\u001b[0m \u001b[0;34m=\u001b[0m \u001b[0mvalue\u001b[0m\u001b[0;34m[\u001b[0m\u001b[0;34m'alert'\u001b[0m\u001b[0;34m]\u001b[0m\u001b[0;34m.\u001b[0m\u001b[0mget\u001b[0m\u001b[0;34m(\u001b[0m\u001b[0;34m'text'\u001b[0m\u001b[0;34m)\u001b[0m\u001b[0;34m\u001b[0m\u001b[0;34m\u001b[0m\u001b[0m\n\u001b[1;32m    241\u001b[0m             \u001b[0;32mraise\u001b[0m \u001b[0mexception_class\u001b[0m\u001b[0;34m(\u001b[0m\u001b[0mmessage\u001b[0m\u001b[0;34m,\u001b[0m \u001b[0mscreen\u001b[0m\u001b[0;34m,\u001b[0m \u001b[0mstacktrace\u001b[0m\u001b[0;34m,\u001b[0m \u001b[0malert_text\u001b[0m\u001b[0;34m)\u001b[0m\u001b[0;34m\u001b[0m\u001b[0;34m\u001b[0m\u001b[0m\n\u001b[0;32m--> 242\u001b[0;31m         \u001b[0;32mraise\u001b[0m \u001b[0mexception_class\u001b[0m\u001b[0;34m(\u001b[0m\u001b[0mmessage\u001b[0m\u001b[0;34m,\u001b[0m \u001b[0mscreen\u001b[0m\u001b[0;34m,\u001b[0m \u001b[0mstacktrace\u001b[0m\u001b[0;34m)\u001b[0m\u001b[0;34m\u001b[0m\u001b[0;34m\u001b[0m\u001b[0m\n\u001b[0m\u001b[1;32m    243\u001b[0m \u001b[0;34m\u001b[0m\u001b[0m\n\u001b[1;32m    244\u001b[0m     \u001b[0;32mdef\u001b[0m \u001b[0m_value_or_default\u001b[0m\u001b[0;34m(\u001b[0m\u001b[0mself\u001b[0m\u001b[0;34m,\u001b[0m \u001b[0mobj\u001b[0m\u001b[0;34m,\u001b[0m \u001b[0mkey\u001b[0m\u001b[0;34m,\u001b[0m \u001b[0mdefault\u001b[0m\u001b[0;34m)\u001b[0m\u001b[0;34m:\u001b[0m\u001b[0;34m\u001b[0m\u001b[0;34m\u001b[0m\u001b[0m\n",
      "\u001b[0;31mWebDriverException\u001b[0m: Message: invalid argument: can't kill an exited process\n"
     ]
    }
   ],
   "source": [
    "options = Options()\n",
    "#options.headless = True\n",
    "\n",
    "\n",
    "driver = webdriver.Firefox(options=options) #"
   ]
  },
  {
   "cell_type": "code",
   "execution_count": 4,
   "metadata": {},
   "outputs": [
    {
     "name": "stdout",
     "output_type": "stream",
     "text": [
      "Grafana\n"
     ]
    }
   ],
   "source": [
    "driver.get(\"http://bms.irasus.com:9600\")\n",
    "\n",
    "print(driver.title)\n",
    "elem = driver.find_element_by_name(\"user\")\n",
    "elem.clear()\n",
    "elem.send_keys(\"wizzy\")\n",
    "\n",
    "elem = driver.find_element_by_name(\"password\")\n",
    "elem.clear()\n",
    "elem.send_keys(\"wizzy\")\n",
    "\n",
    "elem.send_keys(Keys.RETURN)\n",
    "#driver.close()"
   ]
  },
  {
   "cell_type": "code",
   "execution_count": 5,
   "metadata": {},
   "outputs": [
    {
     "name": "stdout",
     "output_type": "stream",
     "text": [
      "Home - Grafana\n"
     ]
    }
   ],
   "source": [
    "print(driver.title)"
   ]
  },
  {
   "cell_type": "code",
   "execution_count": 19,
   "metadata": {},
   "outputs": [],
   "source": [
    "driver.get(\"http://web.whatsapp.com\")\n",
    "\n"
   ]
  },
  {
   "cell_type": "code",
   "execution_count": 34,
   "metadata": {},
   "outputs": [
    {
     "ename": "AttributeError",
     "evalue": "'FirefoxWebElement' object has no attribute 'GetAttribute'",
     "output_type": "error",
     "traceback": [
      "\u001b[0;31m---------------------------------------------------------------------------\u001b[0m",
      "\u001b[0;31mAttributeError\u001b[0m                            Traceback (most recent call last)",
      "\u001b[0;32m<ipython-input-34-68cd4bd3e9dc>\u001b[0m in \u001b[0;36m<module>\u001b[0;34m()\u001b[0m\n\u001b[1;32m      1\u001b[0m \u001b[0mall_options\u001b[0m \u001b[0;34m=\u001b[0m \u001b[0mdriver\u001b[0m\u001b[0;34m.\u001b[0m\u001b[0mfind_elements_by_tag_name\u001b[0m\u001b[0;34m(\u001b[0m\u001b[0;34m\"img\"\u001b[0m\u001b[0;34m)\u001b[0m\u001b[0;34m\u001b[0m\u001b[0;34m\u001b[0m\u001b[0m\n\u001b[0;32m----> 2\u001b[0;31m \u001b[0mprint\u001b[0m\u001b[0;34m(\u001b[0m\u001b[0mall_options\u001b[0m\u001b[0;34m[\u001b[0m\u001b[0;36m0\u001b[0m\u001b[0;34m]\u001b[0m\u001b[0;34m.\u001b[0m\u001b[0mGetAttribute\u001b[0m\u001b[0;34m(\u001b[0m\u001b[0msrc\u001b[0m\u001b[0;34m)\u001b[0m\u001b[0;34m)\u001b[0m\u001b[0;34m\u001b[0m\u001b[0;34m\u001b[0m\u001b[0m\n\u001b[0m",
      "\u001b[0;31mAttributeError\u001b[0m: 'FirefoxWebElement' object has no attribute 'GetAttribute'"
     ]
    }
   ],
   "source": [
    "all_options = driver.find_elements_by_tag_name(\"img\")\n",
    "print(all_options[0].GetAttribute(src))\n"
   ]
  },
  {
   "cell_type": "code",
   "execution_count": 47,
   "metadata": {},
   "outputs": [],
   "source": [
    "def _html_(_src):\n",
    "    _html = '<img src=\"' + _src + '\">'\n",
    "    display(HTML(_html))"
   ]
  },
  {
   "cell_type": "code",
   "execution_count": 48,
   "metadata": {},
   "outputs": [
    {
     "data": {
      "text/html": [
       "<img src=\"data:image/png;base64,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\">"
      ],
      "text/plain": [
       "<IPython.core.display.HTML object>"
      ]
     },
     "metadata": {},
     "output_type": "display_data"
    },
    {
     "data": {
      "text/html": [
       "<img src=\"https://web.whatsapp.com/img/qr-video_07f8d2958696dceefa4f4676aeb4663e.jpg\">"
      ],
      "text/plain": [
       "<IPython.core.display.HTML object>"
      ]
     },
     "metadata": {},
     "output_type": "display_data"
    }
   ],
   "source": [
    "items = driver.find_elements_by_tag_name(\"img\")\n",
    "#print(items.size)\n",
    "\n",
    "_src = items[1].get_attribute('src')\n",
    "\n",
    "for item in items:\n",
    "    _html_(item.get_attribute('src'))\n"
   ]
  },
  {
   "cell_type": "code",
   "execution_count": 42,
   "metadata": {},
   "outputs": [
    {
     "data": {
      "text/html": [
       "<img src=\"https://web.whatsapp.com/img/qr-video_07f8d2958696dceefa4f4676aeb4663e.jpg\">"
      ],
      "text/plain": [
       "<IPython.core.display.HTML object>"
      ]
     },
     "metadata": {},
     "output_type": "display_data"
    }
   ],
   "source": [
    "_html = '<img src=\"' + _src + '\">'\n",
    "display(HTML(_html))"
   ]
  },
  {
   "cell_type": "code",
   "execution_count": null,
   "metadata": {},
   "outputs": [],
   "source": []
  }
 ],
 "metadata": {
  "kernelspec": {
   "display_name": "Python 3",
   "language": "python",
   "name": "python3"
  },
  "language_info": {
   "codemirror_mode": {
    "name": "ipython",
    "version": 3
   },
   "file_extension": ".py",
   "mimetype": "text/x-python",
   "name": "python",
   "nbconvert_exporter": "python",
   "pygments_lexer": "ipython3",
   "version": "3.6.9"
  }
 },
 "nbformat": 4,
 "nbformat_minor": 2
}
